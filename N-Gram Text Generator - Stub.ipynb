{
 "cells": [
  {
   "cell_type": "markdown",
   "metadata": {},
   "source": [
    "## N-gram Text Generation\n",
    "\n",
    "In this assignment we'll generate text via various n-gram models. See the README for full instructions. For this whole assignment use a tokenization that folds to lowercase and removes tokens where `isalpha` is False. "
   ]
  },
  {
   "cell_type": "code",
   "execution_count": null,
   "metadata": {},
   "outputs": [],
   "source": [
    "import nltk\n",
    "import random\n",
    "\n",
    "from nltk.book import *\n",
    "from collections import Counter"
   ]
  },
  {
   "cell_type": "code",
   "execution_count": null,
   "metadata": {},
   "outputs": [],
   "source": [
    "# In this assignment, I recommend you use the random.choices function. \n",
    "# here are some examples of its use.\n",
    "\n",
    "values = \"a b c d e f g\".split()\n",
    "weights = [1,1,5,5,10,10,20]"
   ]
  },
  {
   "cell_type": "code",
   "execution_count": null,
   "metadata": {},
   "outputs": [],
   "source": [
    "random.choices(population=values,weights=weights,k=5)"
   ]
  },
  {
   "cell_type": "code",
   "execution_count": null,
   "metadata": {},
   "outputs": [],
   "source": [
    "from collections import Counter\n",
    "\n",
    "Counter(random.choices(population=values,weights=weights,k=1000)).most_common(10)"
   ]
  },
  {
   "cell_type": "markdown",
   "metadata": {},
   "source": [
    "Now, write a function that generates text of a given length, using the probabilistic approach to glue one word to another. Have it start with a text and the desired length of the output."
   ]
  },
  {
   "cell_type": "code",
   "execution_count": null,
   "metadata": {},
   "outputs": [],
   "source": [
    "def generate_unigram_text(text,length=10) :\n",
    "    \n",
    "    # tokenize the text here, \n",
    "    # 1. fold to lowercase\n",
    "    # 2. remove any tokens where isalpha is False\n",
    "    \n",
    "    results = []\n",
    "    # Now use random.choices to select `length` words and return them\n",
    "    \n",
    "    return(\" \".join(results))\n"
   ]
  },
  {
   "cell_type": "markdown",
   "metadata": {},
   "source": [
    "Now play around with the various texts, generating nonsense sentences from them. "
   ]
  },
  {
   "cell_type": "code",
   "execution_count": null,
   "metadata": {},
   "outputs": [],
   "source": [
    "generate_unigram_text(text1)"
   ]
  },
  {
   "cell_type": "code",
   "execution_count": null,
   "metadata": {},
   "outputs": [],
   "source": [
    "generate_unigram_text(text2)"
   ]
  },
  {
   "cell_type": "code",
   "execution_count": null,
   "metadata": {},
   "outputs": [],
   "source": [
    "generate_unigram_text(text5)"
   ]
  },
  {
   "cell_type": "markdown",
   "metadata": {},
   "source": [
    "Now do the same thing, but have it work with bigrams. This is harder, since you have a \"current word\" you want to glue text onto. The parameter \"start\" will give you a word to start with. "
   ]
  },
  {
   "cell_type": "code",
   "execution_count": null,
   "metadata": {},
   "outputs": [],
   "source": [
    "def generate_bigram_text(text,length=10,start=None) :\n",
    "\n",
    "    uni_fd = FreqDist(text)\n",
    "    if not start :\n",
    "        # Select a starting point here. \n",
    "    else :\n",
    "        if start not in uni_fd :\n",
    "            print(f\"The starting word, {start}, isn't in the text!\")\n",
    "            return(\"\")\n",
    "    \n",
    "    # here we'll need the frequency distribution for the bigrams\n",
    "    \n",
    "    results = [] # the results of your text generator\n",
    "    \n",
    "    # here you'll build up results by randomly selecting\n",
    "    # bigrams that \"chain\" on to the last word in results\n",
    "    \n",
    "    \n",
    "    return(\" \".join(results))\n"
   ]
  },
  {
   "cell_type": "code",
   "execution_count": null,
   "metadata": {},
   "outputs": [],
   "source": [
    "generate_bigram_text(text1)"
   ]
  },
  {
   "cell_type": "code",
   "execution_count": null,
   "metadata": {},
   "outputs": [],
   "source": [
    "generate_bigram_text(text2)"
   ]
  },
  {
   "cell_type": "code",
   "execution_count": null,
   "metadata": {},
   "outputs": [],
   "source": [
    "generate_bigram_text(text5)"
   ]
  }
 ],
 "metadata": {
  "kernelspec": {
   "display_name": "Python 3",
   "language": "python",
   "name": "python3"
  },
  "language_info": {
   "codemirror_mode": {
    "name": "ipython",
    "version": 3
   },
   "file_extension": ".py",
   "mimetype": "text/x-python",
   "name": "python",
   "nbconvert_exporter": "python",
   "pygments_lexer": "ipython3",
   "version": "3.7.3"
  }
 },
 "nbformat": 4,
 "nbformat_minor": 1
}
